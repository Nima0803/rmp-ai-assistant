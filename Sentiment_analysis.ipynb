{
 "cells": [
  {
   "cell_type": "code",
   "execution_count": 4,
   "metadata": {},
   "outputs": [
    {
     "ename": "SyntaxError",
     "evalue": "invalid syntax (622695950.py, line 2)",
     "output_type": "error",
     "traceback": [
      "\u001b[0;36m  Cell \u001b[0;32mIn[4], line 2\u001b[0;36m\u001b[0m\n\u001b[0;31m    pip install xformers\u001b[0m\n\u001b[0m        ^\u001b[0m\n\u001b[0;31mSyntaxError\u001b[0m\u001b[0;31m:\u001b[0m invalid syntax\n"
     ]
    }
   ],
   "source": [
    "pip install transformers torch\n"
   ]
  },
  {
   "cell_type": "code",
   "execution_count": 2,
   "metadata": {},
   "outputs": [
    {
     "name": "stderr",
     "output_type": "stream",
     "text": [
      "/opt/homebrew/lib/python3.11/site-packages/bitsandbytes/cextension.py:34: UserWarning: The installed version of bitsandbytes was compiled without GPU support. 8-bit optimizers, 8-bit multiplication, and GPU quantization are unavailable.\n",
      "  warn(\"The installed version of bitsandbytes was compiled without GPU support. \"\n"
     ]
    },
    {
     "name": "stdout",
     "output_type": "stream",
     "text": [
      "'NoneType' object has no attribute 'cadam32bit_grad_fp32'\n"
     ]
    }
   ],
   "source": [
    "from transformers import pipeline"
   ]
  },
  {
   "cell_type": "code",
   "execution_count": 5,
   "metadata": {},
   "outputs": [
    {
     "name": "stderr",
     "output_type": "stream",
     "text": [
      "No model was supplied, defaulted to distilbert-base-uncased-finetuned-sst-2-english and revision af0f99b (https://huggingface.co/distilbert-base-uncased-finetuned-sst-2-english).\n",
      "Using a pipeline without specifying a model name and revision in production is not recommended.\n"
     ]
    },
    {
     "data": {
      "text/plain": [
       "[{'label': 'NEGATIVE', 'score': 0.8361456394195557}]"
      ]
     },
     "execution_count": 5,
     "metadata": {},
     "output_type": "execute_result"
    }
   ],
   "source": [
    "# Creating pipeiline for sentiment analysis\n",
    "sentiment_pipeline = pipeline(\"sentiment-analysis\")\n",
    "# data = [\"Knowledgeable, but assignments can be unclear\"]\n",
    "# sentiment_pipeline(data)"
   ]
  },
  {
   "cell_type": "code",
   "execution_count": 6,
   "metadata": {},
   "outputs": [],
   "source": [
    "# Loading json data\n",
    "import json\n",
    "\n",
    "with open('professor_review.json', 'r') as file: #Change the filepath and name incase u guys have different name\n",
    "    data = json.load(file)"
   ]
  },
  {
   "cell_type": "code",
   "execution_count": 8,
   "metadata": {},
   "outputs": [],
   "source": [
    "# Tried sentiment analysis on the comments of the reviews\n",
    "reviews = data[\"professor_reviews\"]\n",
    "comments = [review[\"comment\"] for review in reviews]\n",
    "sentiment = sentiment_pipeline(comments)"
   ]
  },
  {
   "cell_type": "code",
   "execution_count": 12,
   "metadata": {},
   "outputs": [
    {
     "data": {
      "text/plain": [
       "[{'label': 'POSITIVE', 'score': 0.9998606443405151},\n",
       " {'label': 'POSITIVE', 'score': 0.514069139957428},\n",
       " {'label': 'POSITIVE', 'score': 0.9998487234115601},\n",
       " {'label': 'NEGATIVE', 'score': 0.9998167157173157},\n",
       " {'label': 'POSITIVE', 'score': 0.989643931388855},\n",
       " {'label': 'POSITIVE', 'score': 0.9775845408439636},\n",
       " {'label': 'POSITIVE', 'score': 0.9998844861984253},\n",
       " {'label': 'NEGATIVE', 'score': 0.9748050570487976},\n",
       " {'label': 'POSITIVE', 'score': 0.99978107213974},\n",
       " {'label': 'NEGATIVE', 'score': 0.6819882392883301},\n",
       " {'label': 'POSITIVE', 'score': 0.9998470544815063},\n",
       " {'label': 'NEGATIVE', 'score': 0.997246503829956},\n",
       " {'label': 'POSITIVE', 'score': 0.9997074007987976},\n",
       " {'label': 'NEGATIVE', 'score': 0.9097167253494263},\n",
       " {'label': 'POSITIVE', 'score': 0.9950542449951172},\n",
       " {'label': 'POSITIVE', 'score': 0.8971384763717651},\n",
       " {'label': 'POSITIVE', 'score': 0.999872088432312},\n",
       " {'label': 'NEGATIVE', 'score': 0.9573298096656799},\n",
       " {'label': 'POSITIVE', 'score': 0.9998557567596436},\n",
       " {'label': 'NEGATIVE', 'score': 0.9394494295120239},\n",
       " {'label': 'NEGATIVE', 'score': 0.9989272952079773},\n",
       " {'label': 'POSITIVE', 'score': 0.9997598528862},\n",
       " {'label': 'POSITIVE', 'score': 0.9996213912963867},\n",
       " {'label': 'POSITIVE', 'score': 0.9998852014541626},\n",
       " {'label': 'NEGATIVE', 'score': 0.996703565120697},\n",
       " {'label': 'POSITIVE', 'score': 0.9998762607574463},\n",
       " {'label': 'NEGATIVE', 'score': 0.960707426071167},\n",
       " {'label': 'POSITIVE', 'score': 0.9998565912246704},\n",
       " {'label': 'NEGATIVE', 'score': 0.8045642971992493},\n",
       " {'label': 'POSITIVE', 'score': 0.999853253364563},\n",
       " {'label': 'NEGATIVE', 'score': 0.970359206199646},\n",
       " {'label': 'POSITIVE', 'score': 0.9997128844261169},\n",
       " {'label': 'NEGATIVE', 'score': 0.957851231098175},\n",
       " {'label': 'POSITIVE', 'score': 0.9997569918632507},\n",
       " {'label': 'NEGATIVE', 'score': 0.9856405258178711},\n",
       " {'label': 'POSITIVE', 'score': 0.9998101592063904},\n",
       " {'label': 'POSITIVE', 'score': 0.9854819774627686},\n",
       " {'label': 'POSITIVE', 'score': 0.9997482895851135},\n",
       " {'label': 'POSITIVE', 'score': 0.9987014532089233},\n",
       " {'label': 'POSITIVE', 'score': 0.9998401403427124},\n",
       " {'label': 'POSITIVE', 'score': 0.6490124464035034},\n",
       " {'label': 'POSITIVE', 'score': 0.9998708963394165},\n",
       " {'label': 'POSITIVE', 'score': 0.9517384171485901},\n",
       " {'label': 'POSITIVE', 'score': 0.9998480081558228},\n",
       " {'label': 'NEGATIVE', 'score': 0.9915968775749207},\n",
       " {'label': 'POSITIVE', 'score': 0.9998679161071777},\n",
       " {'label': 'POSITIVE', 'score': 0.9993588328361511},\n",
       " {'label': 'POSITIVE', 'score': 0.9998757839202881},\n",
       " {'label': 'POSITIVE', 'score': 0.8344874978065491}]"
      ]
     },
     "execution_count": 12,
     "metadata": {},
     "output_type": "execute_result"
    }
   ],
   "source": [
    "sentiment"
   ]
  },
  {
   "cell_type": "code",
   "execution_count": 13,
   "metadata": {},
   "outputs": [],
   "source": [
    "for review, sentiment in zip(reviews, sentiment):\n",
    "    review['sentiment'] = sentiment['label']  \n",
    "    review['sentiment_score'] = sentiment['score']"
   ]
  },
  {
   "cell_type": "code",
   "execution_count": 14,
   "metadata": {},
   "outputs": [
    {
     "name": "stdout",
     "output_type": "stream",
     "text": [
      "Professor: Dr. Sarah Johnson, Subject: Physics\n",
      "Rating: 4.5, Sentiment: POSITIVE, Score: 1.00\n",
      "Comment: Excellent at explaining complex concepts. Engaging lectures!\n",
      "\n",
      "Professor: Prof. Michael Lee, Subject: Literature\n",
      "Rating: 3.0, Sentiment: POSITIVE, Score: 0.51\n",
      "Comment: Knowledgeable, but assignments can be unclear.\n",
      "\n",
      "Professor: Dr. Emily Chen, Subject: Computer Science\n",
      "Rating: 4.8, Sentiment: POSITIVE, Score: 1.00\n",
      "Comment: Fantastic teacher! Always available for extra help.\n",
      "\n",
      "Professor: Prof. Robert Taylor, Subject: History\n",
      "Rating: 2.5, Sentiment: NEGATIVE, Score: 1.00\n",
      "Comment: Lectures are dry. Needs more interactive elements.\n",
      "\n",
      "Professor: Dr. Amanda Rodriguez, Subject: Biology\n",
      "Rating: 4.2, Sentiment: POSITIVE, Score: 0.99\n",
      "Comment: Great lab sessions, but exams are very challenging.\n",
      "\n",
      "Professor: Prof. David Kim, Subject: Mathematics\n",
      "Rating: 3.7, Sentiment: POSITIVE, Score: 0.98\n",
      "Comment: Clear explanations, but moves through material quickly.\n",
      "\n",
      "Professor: Dr. Lisa Brown, Subject: Psychology\n",
      "Rating: 4.9, Sentiment: POSITIVE, Score: 1.00\n",
      "Comment: Passionate about the subject. Makes class enjoyable!\n",
      "\n",
      "Professor: Prof. James Wilson, Subject: Economics\n",
      "Rating: 3.3, Sentiment: NEGATIVE, Score: 0.97\n",
      "Comment: Knowledgeable, but not very approachable.\n",
      "\n",
      "Professor: Dr. Maria Garcia, Subject: Chemistry\n",
      "Rating: 4.6, Sentiment: POSITIVE, Score: 1.00\n",
      "Comment: Excellent at breaking down complex topics.\n",
      "\n",
      "Professor: Prof. Thomas Wright, Subject: Philosophy\n",
      "Rating: 3.8, Sentiment: NEGATIVE, Score: 0.68\n",
      "Comment: Thought-provoking discussions, but grading can be subjective.\n",
      "\n",
      "Professor: Dr. Rachel Green, Subject: Environmental Science\n",
      "Rating: 4.4, Sentiment: POSITIVE, Score: 1.00\n",
      "Comment: Engaging field trips and practical applications.\n",
      "\n",
      "Professor: Prof. Daniel Martinez, Subject: Sociology\n",
      "Rating: 3.5, Sentiment: NEGATIVE, Score: 1.00\n",
      "Comment: Interesting material, but lectures can be disorganized.\n",
      "\n",
      "Professor: Dr. Jessica Lee, Subject: Neuroscience\n",
      "Rating: 4.7, Sentiment: POSITIVE, Score: 1.00\n",
      "Comment: Challenging course, but Dr. Lee makes it accessible.\n",
      "\n",
      "Professor: Prof. William Turner, Subject: Art History\n",
      "Rating: 3.9, Sentiment: NEGATIVE, Score: 0.91\n",
      "Comment: Passionate about art, but heavy workload.\n",
      "\n",
      "Professor: Dr. Kevin Patel, Subject: Engineering\n",
      "Rating: 4.1, Sentiment: POSITIVE, Score: 1.00\n",
      "Comment: Great industry insights, but tough grader.\n",
      "\n",
      "Professor: Prof. Laura Simpson, Subject: Political Science\n",
      "Rating: 3.2, Sentiment: POSITIVE, Score: 0.90\n",
      "Comment: Knowledgeable, but tends to favor certain viewpoints.\n",
      "\n",
      "Professor: Dr. Christopher Lee, Subject: Geology\n",
      "Rating: 4.3, Sentiment: POSITIVE, Score: 1.00\n",
      "Comment: Excellent field trips, brings the subject to life.\n",
      "\n",
      "Professor: Prof. Olivia Carter, Subject: Linguistics\n",
      "Rating: 3.6, Sentiment: NEGATIVE, Score: 0.96\n",
      "Comment: Interesting topics, but assignments can be vague.\n",
      "\n",
      "Professor: Dr. Mark Johnson, Subject: Astronomy\n",
      "Rating: 4.8, Sentiment: POSITIVE, Score: 1.00\n",
      "Comment: Captivating lectures, makes complex concepts understandable.\n",
      "\n",
      "Professor: Prof. Sophia Nguyen, Subject: Anthropology\n",
      "Rating: 3.4, Sentiment: NEGATIVE, Score: 0.94\n",
      "Comment: Engaging discussions, but lectures can be repetitive.\n",
      "\n",
      "Professor: Dr. Alan Robbins, Subject: Statistics\n",
      "Rating: 3.7, Sentiment: NEGATIVE, Score: 1.00\n",
      "Comment: Clear explanations, but pace can be too fast.\n",
      "\n",
      "Professor: Prof. Natalie Wong, Subject: Marketing\n",
      "Rating: 4.2, Sentiment: POSITIVE, Score: 1.00\n",
      "Comment: Great real-world examples, helpful for career prospects.\n",
      "\n",
      "Professor: Dr. Eric Sanders, Subject: Organic Chemistry\n",
      "Rating: 3.9, Sentiment: POSITIVE, Score: 1.00\n",
      "Comment: Tough course, but Dr. Sanders is always willing to help.\n",
      "\n",
      "Professor: Prof. Grace Miller, Subject: Music Theory\n",
      "Rating: 4.5, Sentiment: POSITIVE, Score: 1.00\n",
      "Comment: Passionate and inspiring. Makes theory enjoyable.\n",
      "\n",
      "Professor: Dr. Patrick O'Brien, Subject: Microbiology\n",
      "Rating: 3.8, Sentiment: NEGATIVE, Score: 1.00\n",
      "Comment: Interesting lab work, but lectures can be dry.\n",
      "\n",
      "Professor: Prof. Samantha Lewis, Subject: World Languages\n",
      "Rating: 4.6, Sentiment: POSITIVE, Score: 1.00\n",
      "Comment: Excellent teaching methods, makes learning fun.\n",
      "\n",
      "Professor: Dr. Benjamin Harris, Subject: Electrical Engineering\n",
      "Rating: 3.5, Sentiment: NEGATIVE, Score: 0.96\n",
      "Comment: Knowledgeable, but can be impatient with questions.\n",
      "\n",
      "Professor: Prof. Emma Thompson, Subject: Film Studies\n",
      "Rating: 4.4, Sentiment: POSITIVE, Score: 1.00\n",
      "Comment: Insightful analysis and engaging discussions.\n",
      "\n",
      "Professor: Dr. Ryan Clark, Subject: Nutrition\n",
      "Rating: 3.3, Sentiment: NEGATIVE, Score: 0.80\n",
      "Comment: Informative, but could use more practical applications.\n",
      "\n",
      "Professor: Prof. Angela Davis, Subject: Women's Studies\n",
      "Rating: 4.7, Sentiment: POSITIVE, Score: 1.00\n",
      "Comment: Thought-provoking and empowering lectures.\n",
      "\n",
      "Professor: Dr. Jason Kim, Subject: Biochemistry\n",
      "Rating: 3.6, Sentiment: NEGATIVE, Score: 0.97\n",
      "Comment: Very knowledgeable, but explanations can be confusing.\n",
      "\n",
      "Professor: Prof. Linda Martinez, Subject: Education\n",
      "Rating: 4.3, Sentiment: POSITIVE, Score: 1.00\n",
      "Comment: Practical teaching strategies, very helpful for future educators.\n",
      "\n",
      "Professor: Dr. Andrew Wilson, Subject: Quantum Physics\n",
      "Rating: 3.9, Sentiment: NEGATIVE, Score: 0.96\n",
      "Comment: Brilliant mind, but lectures can be hard to follow.\n",
      "\n",
      "Professor: Prof. Cynthia Baker, Subject: Public Health\n",
      "Rating: 4.5, Sentiment: POSITIVE, Score: 1.00\n",
      "Comment: Engaging lectures with relevant, current examples.\n",
      "\n",
      "Professor: Dr. Timothy Green, Subject: Botany\n",
      "Rating: 3.7, Sentiment: NEGATIVE, Score: 0.99\n",
      "Comment: Interesting field work, but lectures need more structure.\n",
      "\n",
      "Professor: Prof. Karen White, Subject: Business Ethics\n",
      "Rating: 4.1, Sentiment: POSITIVE, Score: 1.00\n",
      "Comment: Thought-provoking case studies, fair grader.\n",
      "\n",
      "Professor: Dr. Frank Lopez, Subject: Mechanical Engineering\n",
      "Rating: 3.4, Sentiment: POSITIVE, Score: 0.99\n",
      "Comment: Knowledgeable, but could improve teaching style.\n",
      "\n",
      "Professor: Prof. Helen Chang, Subject: Comparative Literature\n",
      "Rating: 4.6, Sentiment: POSITIVE, Score: 1.00\n",
      "Comment: Passionate and insightful. Broadens literary perspectives.\n",
      "\n",
      "Professor: Dr. George Martin, Subject: Genetics\n",
      "Rating: 3.8, Sentiment: POSITIVE, Score: 1.00\n",
      "Comment: Challenging material, but Dr. Martin is helpful in office hours.\n",
      "\n",
      "Professor: Prof. Julia Sanchez, Subject: International Relations\n",
      "Rating: 4.2, Sentiment: POSITIVE, Score: 1.00\n",
      "Comment: Engaging discussions on current global issues.\n",
      "\n",
      "Professor: Dr. Paul Anderson, Subject: Physical Chemistry\n",
      "Rating: 3.5, Sentiment: POSITIVE, Score: 0.65\n",
      "Comment: Very rigorous course. Dr. Anderson knows his stuff but can be intimidating.\n",
      "\n",
      "Professor: Prof. Michelle Lee, Subject: Graphic Design\n",
      "Rating: 4.8, Sentiment: POSITIVE, Score: 1.00\n",
      "Comment: Creative projects and valuable industry insights.\n",
      "\n",
      "Professor: Dr. Edward Brown, Subject: Astrophysics\n",
      "Rating: 3.9, Sentiment: POSITIVE, Score: 0.95\n",
      "Comment: Fascinating subject matter, but assignments can be unclear.\n",
      "\n",
      "Professor: Prof. Catherine Ross, Subject: Social Work\n",
      "Rating: 4.4, Sentiment: POSITIVE, Score: 1.00\n",
      "Comment: Compassionate teacher with practical, real-world approach.\n",
      "\n",
      "Professor: Dr. Anthony Nguyen, Subject: Immunology\n",
      "Rating: 3.7, Sentiment: NEGATIVE, Score: 0.99\n",
      "Comment: Knowledgeable, but lectures can be hard to follow.\n",
      "\n",
      "Professor: Prof. Rebecca Taylor, Subject: Creative Writing\n",
      "Rating: 4.7, Sentiment: POSITIVE, Score: 1.00\n",
      "Comment: Inspiring and supportive. Helps students find their voice.\n",
      "\n",
      "Professor: Dr. Samuel Cohen, Subject: Analytical Chemistry\n",
      "Rating: 3.6, Sentiment: POSITIVE, Score: 1.00\n",
      "Comment: Tough grader, but very knowledgeable in the field.\n",
      "\n",
      "Professor: Prof. Elizabeth Ward, Subject: Human Rights Law\n",
      "Rating: 4.5, Sentiment: POSITIVE, Score: 1.00\n",
      "Comment: Passionate advocate. Lectures are engaging and thought-provoking.\n",
      "\n",
      "Professor: Dr. Victor Ramirez, Subject: Robotics\n",
      "Rating: 4.0, Sentiment: POSITIVE, Score: 0.83\n",
      "Comment: Cutting-edge knowledge, but could improve explanations.\n",
      "\n"
     ]
    }
   ],
   "source": [
    "## Just for testing\n",
    "for review in reviews:\n",
    "    print(f\"Professor: {review['name']}, Subject: {review['subject']}\")\n",
    "    print(f\"Rating: {review['rating']}, Sentiment: {review['sentiment']}, Score: {review['sentiment_score']:.2f}\")\n",
    "    print(f\"Comment: {review['comment']}\\n\")"
   ]
  },
  {
   "cell_type": "code",
   "execution_count": 15,
   "metadata": {},
   "outputs": [],
   "source": [
    "# Writing the comments to CSV file for easier use for front-end\n",
    "import csv\n",
    "with open('sentiment_analysis_results.csv', 'w', newline='') as csvfile:\n",
    "    fieldnames = ['name', 'subject', 'rating', 'sentiment', 'sentiment_score', 'comment']\n",
    "    writer = csv.DictWriter(csvfile, fieldnames=fieldnames)\n",
    "\n",
    "    writer.writeheader()\n",
    "    for review in reviews:\n",
    "        writer.writerow({\n",
    "            'name': review['name'],\n",
    "            'subject': review['subject'],\n",
    "            'rating': review['rating'],\n",
    "            'sentiment': review['sentiment'],\n",
    "            'sentiment_score': f\"{review['sentiment_score']:.2f}\",\n",
    "            'comment': review['comment']\n",
    "        })"
   ]
  },
  {
   "cell_type": "code",
   "execution_count": null,
   "metadata": {},
   "outputs": [],
   "source": []
  }
 ],
 "metadata": {
  "kernelspec": {
   "display_name": "Python 3",
   "language": "python",
   "name": "python3"
  },
  "language_info": {
   "codemirror_mode": {
    "name": "ipython",
    "version": 3
   },
   "file_extension": ".py",
   "mimetype": "text/x-python",
   "name": "python",
   "nbconvert_exporter": "python",
   "pygments_lexer": "ipython3",
   "version": "3.11.8"
  }
 },
 "nbformat": 4,
 "nbformat_minor": 2
}
